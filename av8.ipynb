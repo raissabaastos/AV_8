{
 "cells": [
  {
   "cell_type": "markdown",
   "metadata": {},
   "source": [
    "# Questão 1 \n",
    "![alt text]({02815547-C498-458E-999D-8F17A766BC06}.png)"
   ]
  },
  {
   "cell_type": "code",
   "execution_count": null,
   "metadata": {
    "vscode": {
     "languageId": "plaintext"
    }
   },
   "outputs": [],
   "source": []
  },
  {
   "cell_type": "markdown",
   "metadata": {},
   "source": [
    "# Questão 2\n",
    "![alt text]({54679AC8-F248-4F79-8F94-EBED57A4C088}.png)\n",
    "![alt text]({CC2B7BB4-C8DE-44BC-B6D9-129F0D99A78E}.png)\n"
   ]
  }
 ],
 "metadata": {
  "language_info": {
   "name": "python"
  }
 },
 "nbformat": 4,
 "nbformat_minor": 2
}
